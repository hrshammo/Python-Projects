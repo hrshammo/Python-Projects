{
  "nbformat": 4,
  "nbformat_minor": 0,
  "metadata": {
    "colab": {
      "provenance": []
    },
    "kernelspec": {
      "name": "python3",
      "display_name": "Python 3"
    },
    "language_info": {
      "name": "python"
    }
  },
  "cells": [
    {
      "cell_type": "code",
      "execution_count": 14,
      "metadata": {
        "colab": {
          "base_uri": "https://localhost:8080/"
        },
        "id": "Piq_iZzvWY6Q",
        "outputId": "49305c9c-bfd8-4ba8-fe36-12790d756966"
      },
      "outputs": [
        {
          "output_type": "stream",
          "name": "stdout",
          "text": [
            "Drive already mounted at /content/drive; to attempt to forcibly remount, call drive.mount(\"/content/drive\", force_remount=True).\n"
          ]
        }
      ],
      "source": [
        "import os\n",
        "import cv2\n",
        "import numpy as np\n",
        "from google.colab import drive\n",
        "drive.mount('/content/drive')"
      ]
    },
    {
      "cell_type": "code",
      "source": [
        "input_folder = '/content/drive/My Drive/colab/real'\n",
        "output_folder = '/content/drive/My Drive/colab/after'\n",
        "\n",
        "os.makedirs(output_folder, exist_ok=True)"
      ],
      "metadata": {
        "id": "fXezYy77WkM4"
      },
      "execution_count": 15,
      "outputs": []
    },
    {
      "cell_type": "code",
      "source": [
        "def process_image(input_path, output_path):\n",
        "    # Read the image\n",
        "    img = cv2.imread(input_path)\n",
        "\n",
        "    # Resize the image\n",
        "    img_resized = cv2.resize(img, (img.shape[1]//2, img.shape[0]//3))\n",
        "\n",
        "   # Save the processed image\n",
        "    cv2.imwrite(output_path, img_resized)\n",
        "\n",
        "# Loop through images in the \"real\" folder\n",
        "allowed_extensions = (\".jpg\", \".png\", \".jpeg\")\n",
        "for filename in os.listdir(input_folder):\n",
        "    if filename.endswith(allowed_extensions):  # Adjust the file extension as needed\n",
        "        input_path = os.path.join(input_folder, filename)\n",
        "        output_path = os.path.join(output_folder, filename)\n",
        "\n",
        "        # Process and save the image\n",
        "        process_image(input_path, output_path)"
      ],
      "metadata": {
        "id": "wbrXgzUQgvjF"
      },
      "execution_count": 18,
      "outputs": []
    },
    {
      "cell_type": "code",
      "source": [
        "def process_image(input_path, output_path):\n",
        "    # Read the image\n",
        "    img = cv2.imread(input_path)\n",
        "\n",
        "    # Normalize the image\n",
        "    img_normalized = cv2.normalize(img, None, 0, 255, cv2.NORM_MINMAX)\n",
        "\n",
        "    # Save the processed image\n",
        "    cv2.imwrite(output_path, img_normalized)\n",
        "\n",
        "# Loop through images in the \"real\" folder\n",
        "allowed_extensions = (\".jpg\", \".png\", \".jpeg\")\n",
        "for filename in os.listdir(input_folder):\n",
        "    if filename.endswith(allowed_extensions):  # Adjust the file extension as needed\n",
        "        input_path = os.path.join(input_folder, filename)\n",
        "        output_path = os.path.join(output_folder, filename)\n",
        "\n",
        "        # Process and save the image\n",
        "        process_image(input_path, output_path)\n",
        ""
      ],
      "metadata": {
        "id": "JrJplYymhCQ9"
      },
      "execution_count": 19,
      "outputs": []
    },
    {
      "cell_type": "code",
      "source": [
        "def process_image(input_path, output_path):\n",
        "    # Read the image\n",
        "    img = cv2.imread(input_path)\n",
        "\n",
        "    # Apply background removal\n",
        "    gray = cv2.cvtColor(img, cv2.COLOR_BGR2GRAY)\n",
        "    _, mask = cv2.threshold(gray, 200, 255, cv2.THRESH_BINARY)\n",
        "    mask_inv = cv2.bitwise_not(mask)\n",
        "    background = np.full_like(img, (255, 255, 255), dtype=np.uint8)\n",
        "    result_bg_removed = cv2.bitwise_and(img, img, mask=mask_inv) + cv2.bitwise_and(background, background, mask=mask)\n",
        "\n",
        "  # Save the processed image\n",
        "    cv2.imwrite(output_path, result_bg_removed)\n",
        "\n",
        "# Loop through images in the \"real\" folder\n",
        "allowed_extensions = (\".jpg\", \".png\", \".jpeg\")\n",
        "for filename in os.listdir(input_folder):\n",
        "    if filename.endswith(allowed_extensions):  # Adjust the file extension as needed\n",
        "        input_path = os.path.join(input_folder, filename)\n",
        "        output_path = os.path.join(output_folder, filename)\n",
        "\n",
        "        # Process and save the image\n",
        "        process_image(input_path, output_path)\n",
        ""
      ],
      "metadata": {
        "id": "rkYtPtGihCQU"
      },
      "execution_count": 20,
      "outputs": []
    },
    {
      "cell_type": "code",
      "source": [
        "from numpy.lib.type_check import imag\n",
        "def process_image(input_path, output_path):\n",
        "    # Read the image\n",
        "    img = cv2.imread(input_path)\n",
        "\n",
        "    # Convert the image to grayscale\n",
        "    img_grayscale = cv2.cvtColor(img, cv2.COLOR_BGR2GRAY)\n",
        "\n",
        "  # Save the processed image\n",
        "    cv2.imwrite(output_path, img_grayscale)\n",
        "\n",
        "# Loop through images in the \"real\" folder\n",
        "allowed_extensions = (\".jpg\", \".png\", \".jpeg\")\n",
        "for filename in os.listdir(input_folder):\n",
        "    if filename.endswith(allowed_extensions):  # Adjust the file extension as needed\n",
        "        input_path = os.path.join(input_folder, filename)\n",
        "        output_path = os.path.join(output_folder, filename)\n",
        "\n",
        "        # Process and save the image\n",
        "        process_image(input_path, output_path)\n",
        ""
      ],
      "metadata": {
        "id": "U9th7p5-hT9e"
      },
      "execution_count": 21,
      "outputs": []
    }
  ]
}