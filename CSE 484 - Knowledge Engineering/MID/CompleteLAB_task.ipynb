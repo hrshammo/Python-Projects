{
  "nbformat": 4,
  "nbformat_minor": 0,
  "metadata": {
    "colab": {
      "provenance": []
    },
    "kernelspec": {
      "name": "python3",
      "display_name": "Python 3"
    },
    "language_info": {
      "name": "python"
    }
  },
  "cells": [
    {
      "cell_type": "code",
      "execution_count": 1,
      "metadata": {
        "colab": {
          "base_uri": "https://localhost:8080/"
        },
        "id": "udqTDmlbccN9",
        "outputId": "500cf871-5bb2-4633-edc2-52ae281fdcdc"
      },
      "outputs": [
        {
          "output_type": "stream",
          "name": "stdout",
          "text": [
            "Mounted at /content/drive\n"
          ]
        }
      ],
      "source": [
        "import os\n",
        "import cv2\n",
        "from google.colab import drive\n",
        "drive.mount('/content/drive')"
      ]
    },
    {
      "cell_type": "code",
      "source": [
        "input_folder = '/content/drive/My Drive/colab/real'\n",
        "output_folder = '/content/drive/My Drive/colab/after'\n",
        "os.makedirs(output_folder, exist_ok=True)"
      ],
      "metadata": {
        "id": "X6-mK40CggrO"
      },
      "execution_count": 2,
      "outputs": []
    },
    {
      "cell_type": "code",
      "source": [
        "new_width = 800\n",
        "new_height = 600\n",
        "\n",
        "def process_image(input_path, output_path):\n",
        "    img = cv2.imread(input_path)\n",
        "    img_resized = cv2.resize(img, (new_width, new_height))\n",
        "    img_flipped = cv2.flip(img_resized, 1)\n",
        "    # Save the processed image\n",
        "    cv2.imwrite(output_path, img_flipped)\n",
        "# Loop through images in the \"real\" folder\n",
        "allowed_extensions = (\".jpg\", \".png\", \".jpeg\")\n",
        "for filename in os.listdir(input_folder):\n",
        "    if filename.endswith(allowed_extensions):  # Adjust the file extension as needed\n",
        "        input_path = os.path.join(input_folder, filename)\n",
        "        output_path = os.path.join(output_folder, filename)\n",
        "\n",
        "        # Process and save the image\n",
        "        process_image(input_path, output_path)"
      ],
      "metadata": {
        "id": "NE1ANDHHgmMu"
      },
      "execution_count": 3,
      "outputs": []
    }
  ]
}